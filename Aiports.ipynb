{
 "cells": [
  {
   "cell_type": "markdown",
   "id": "45acb7ea",
   "metadata": {},
   "source": [
    "# INDIVIDUAL PROJECT - MDS\n",
    "## AIPORTS                                                                 <img style=\"margin-right: 50px;\" width=80 src=\"https://media.giphy.com/media/KAq5w47R9rmTuvWOWa/giphy.gif\">\n",
    "<img width=80 src=\"imagen/Assembler.png\">\n",
    "\n",
    "# By: Andrea Justement"
   ]
  },
  {
   "cell_type": "markdown",
   "id": "0a66ea03",
   "metadata": {},
   "source": [
    "# All aboard!!\n",
    "\n",
    "  <img style=\"margin-right: 800px;\" width=600 src=\"https://www.lavanguardia.com/files/image_948_465/uploads/2019/03/14/5fa516a6a1882.jpeg\">\n",
    "\n",
    "# EXERCISES"
   ]
  },
  {
   "cell_type": "markdown",
   "id": "0881cfbe",
   "metadata": {},
   "source": [
    "1. Loading of the dataset as a dataframe. You may download the .csv and open it, or, as a more interesting option, you may directly load the dataset directly from the URL."
   ]
  },
  {
   "cell_type": "code",
   "execution_count": 1,
   "id": "2cf94644",
   "metadata": {},
   "outputs": [],
   "source": [
    "import pandas as pd\n",
    "import requests\n",
    "import matplotlib.pyplot as plt\n",
    "import seaborn as sns\n",
    "from io import StringIO\n",
    "import sys\n",
    "\n",
    "class DataLoader:\n",
    "    def __init__(self, url):\n",
    "        # Constructor to initialize the DataLoader instance with a given URL\n",
    "        self.url = url\n",
    "        self.df = self.load_data()\n",
    "\n",
    "    def load_data(self):\n",
    "        # Method to load data from the specified URL into a Pandas DataFrame\n",
    "        response = requests.get(self.url)\n",
    "\n",
    "        if response.status_code == 200:\n",
    "            # If the GET request is successful (status code 200), parse the data into a DataFrame\n",
    "            data = StringIO(response.text)\n",
    "            return pd.read_csv(data, header=None, names=['AirportID', 'Name', 'City', 'Country', 'IATA',\n",
    "                                                         'ICAO', 'Latitude', 'Longitude', 'Altitude', \n",
    "                                                         'Timezone', 'DST', 'Tz', 'Type', 'Source'])\n",
    "        else:\n",
    "            # If the GET request fails, print an error message and return None\n",
    "            print(f\"Error in GET request. Status code: {response.status_code}\")\n",
    "            return None\n",
    "\n",
    "# Create an instance of DataLoader\n",
    "data_loader = DataLoader(\"https://raw.githubusercontent.com/jpatokal/openflights/master/data/airports-extended.dat\")\n",
    "\n",
    "# Check if the load was successful before continuing\n",
    "if data_loader.df is None:\n",
    "    # If data loading failed, print an error message and exit the program\n",
    "    print(\"Cannot proceed without data.\")\n",
    "    sys.exit(1)\n"
   ]
  },
  {
   "cell_type": "markdown",
   "id": "beac3470",
   "metadata": {},
   "source": [
    "2. Show the first 10 rows of the dataframe."
   ]
  },
  {
   "cell_type": "code",
   "execution_count": 2,
   "id": "36b3c37d",
   "metadata": {},
   "outputs": [
    {
     "name": "stdout",
     "output_type": "stream",
     "text": [
      "First 10 rows of the DataFrame:\n",
      "    AirportID                                         Name          City  \\\n",
      "0          1                               Goroka Airport        Goroka   \n",
      "1          2                               Madang Airport        Madang   \n",
      "2          3                 Mount Hagen Kagamuga Airport   Mount Hagen   \n",
      "3          4                               Nadzab Airport        Nadzab   \n",
      "4          5  Port Moresby Jacksons International Airport  Port Moresby   \n",
      "5          6                  Wewak International Airport         Wewak   \n",
      "6          7                           Narsarsuaq Airport  Narssarssuaq   \n",
      "7          8                      Godthaab / Nuuk Airport      Godthaab   \n",
      "8          9                        Kangerlussuaq Airport   Sondrestrom   \n",
      "9         10                               Thule Air Base         Thule   \n",
      "\n",
      "            Country IATA  ICAO   Latitude   Longitude  Altitude Timezone DST  \\\n",
      "0  Papua New Guinea  GKA  AYGA  -6.081690  145.391998      5282       10   U   \n",
      "1  Papua New Guinea  MAG  AYMD  -5.207080  145.789001        20       10   U   \n",
      "2  Papua New Guinea  HGU  AYMH  -5.826790  144.296005      5388       10   U   \n",
      "3  Papua New Guinea  LAE  AYNZ  -6.569803  146.725977       239       10   U   \n",
      "4  Papua New Guinea  POM  AYPY  -9.443380  147.220001       146       10   U   \n",
      "5  Papua New Guinea  WWK  AYWK  -3.583830  143.669006        19       10   U   \n",
      "6         Greenland  UAK  BGBW  61.160500  -45.425999       112       -3   E   \n",
      "7         Greenland  GOH  BGGH  64.190903  -51.678101       283       -3   E   \n",
      "8         Greenland  SFJ  BGSF  67.012222  -50.711603       165       -3   E   \n",
      "9         Greenland  THU  BGTL  76.531197  -68.703201       251       -4   E   \n",
      "\n",
      "                     Tz     Type       Source  \n",
      "0  Pacific/Port_Moresby  airport  OurAirports  \n",
      "1  Pacific/Port_Moresby  airport  OurAirports  \n",
      "2  Pacific/Port_Moresby  airport  OurAirports  \n",
      "3  Pacific/Port_Moresby  airport  OurAirports  \n",
      "4  Pacific/Port_Moresby  airport  OurAirports  \n",
      "5  Pacific/Port_Moresby  airport  OurAirports  \n",
      "6       America/Godthab  airport  OurAirports  \n",
      "7       America/Godthab  airport  OurAirports  \n",
      "8       America/Godthab  airport  OurAirports  \n",
      "9         America/Thule  airport  OurAirports  \n"
     ]
    }
   ],
   "source": [
    "# Point 2: Display the first 10 rows\n",
    "print(\"First 10 rows of the DataFrame:\\n\", data_loader.df.head(10))\n"
   ]
  },
  {
   "cell_type": "markdown",
   "id": "0b6a74d8",
   "metadata": {},
   "source": [
    "3. Obtain a statistical summary and interpret the output (you can choose to explain using text or complement with graphical tools)."
   ]
  },
  {
   "cell_type": "code",
   "execution_count": 3,
   "id": "91184bcf",
   "metadata": {},
   "outputs": [
    {
     "name": "stdout",
     "output_type": "stream",
     "text": [
      "Statistical summary of the DataFrame:\n",
      "           AirportID      Latitude     Longitude      Altitude\n",
      "count  12668.000000  12668.000000  12668.000000  12668.000000\n",
      "mean    7311.584465     29.820510     -1.041145    831.871093\n",
      "std     4202.520098     26.923942     83.618663   1498.239733\n",
      "min        1.000000    -90.000000   -179.876999  -1266.000000\n",
      "25%     3349.750000     16.115875    -77.294770     38.000000\n",
      "50%     7771.500000     38.341850      6.955411    232.500000\n",
      "75%    10943.250000     49.306042     47.835824    883.500000\n",
      "max    14111.000000     90.000000    179.951004  14472.000000\n"
     ]
    },
    {
     "data": {
      "image/png": "[encoded data removed]",
      "text/plain": [
       "<Figure size 1000x600 with 1 Axes>"
      ]
     },
     "metadata": {},
     "output_type": "display_data"
    }
   ],
   "source": [
    "# Point 3: Get statistical summary\n",
    "statistical_summary = data_loader.df.describe()\n",
    "print(\"Statistical summary of the DataFrame:\\n\", statistical_summary)\n",
    "\n",
    "# Bar chart for some key statistics\n",
    "columns_to_plot = ['Latitude', 'Longitude']\n",
    "statistics_to_plot = ['mean','max']  # Statistics to select\n",
    "statistical_summary.loc[statistics_to_plot, columns_to_plot].plot(kind='bar', figsize=(10, 6), title='Key Statistics')\n",
    "plt.xlabel('Statistics')\n",
    "plt.ylabel('Value')\n",
    "plt.show()\n"
   ]
  },
  {
   "cell_type": "markdown",
   "id": "869487ba",
   "metadata": {},
   "source": [
    "4. For this analysis we are not going to use the 'AirportID', 'Latitude', 'Longitude' and 'Altitude' columns, remove them from the dataframe."
   ]
  },
  {
   "cell_type": "code",
   "execution_count": 4,
   "id": "8c14a2e8",
   "metadata": {},
   "outputs": [
    {
     "name": "stdout",
     "output_type": "stream",
     "text": [
      "Columns successfully removed.\n"
     ]
    }
   ],
   "source": [
    "# Drop specified columns from the DataFrame\n",
    "data_loader.df = data_loader.df.drop(['AirportID', 'Latitude', 'Longitude', 'Altitude'], axis=1, errors='ignore')\n",
    "print(\"Columns successfully removed.\")"
   ]
  },
  {
   "cell_type": "code",
   "execution_count": 5,
   "id": "4dec4750",
   "metadata": {},
   "outputs": [
    {
     "data": {
      "text/html": [
       "<div>\n",
       "<style scoped>\n",
       "    .dataframe tbody tr th:only-of-type {\n",
       "        vertical-align: middle;\n",
       "    }\n",
       "\n",
       "    .dataframe tbody tr th {\n",
       "        vertical-align: top;\n",
       "    }\n",
       "\n",
       "    .dataframe thead th {\n",
       "        text-align: right;\n",
       "    }\n",
       "</style>\n",
       "<table border=\"1\" class=\"dataframe\">\n",
       "  <thead>\n",
       "    <tr style=\"text-align: right;\">\n",
       "      <th></th>\n",
       "      <th>Name</th>\n",
       "      <th>City</th>\n",
       "      <th>Country</th>\n",
       "      <th>IATA</th>\n",
       "      <th>ICAO</th>\n",
       "      <th>Timezone</th>\n",
       "      <th>DST</th>\n",
       "      <th>Tz</th>\n",
       "      <th>Type</th>\n",
       "      <th>Source</th>\n",
       "    </tr>\n",
       "  </thead>\n",
       "  <tbody>\n",
       "    <tr>\n",
       "      <th>0</th>\n",
       "      <td>Goroka Airport</td>\n",
       "      <td>Goroka</td>\n",
       "      <td>Papua New Guinea</td>\n",
       "      <td>GKA</td>\n",
       "      <td>AYGA</td>\n",
       "      <td>10</td>\n",
       "      <td>U</td>\n",
       "      <td>Pacific/Port_Moresby</td>\n",
       "      <td>airport</td>\n",
       "      <td>OurAirports</td>\n",
       "    </tr>\n",
       "    <tr>\n",
       "      <th>1</th>\n",
       "      <td>Madang Airport</td>\n",
       "      <td>Madang</td>\n",
       "      <td>Papua New Guinea</td>\n",
       "      <td>MAG</td>\n",
       "      <td>AYMD</td>\n",
       "      <td>10</td>\n",
       "      <td>U</td>\n",
       "      <td>Pacific/Port_Moresby</td>\n",
       "      <td>airport</td>\n",
       "      <td>OurAirports</td>\n",
       "    </tr>\n",
       "    <tr>\n",
       "      <th>2</th>\n",
       "      <td>Mount Hagen Kagamuga Airport</td>\n",
       "      <td>Mount Hagen</td>\n",
       "      <td>Papua New Guinea</td>\n",
       "      <td>HGU</td>\n",
       "      <td>AYMH</td>\n",
       "      <td>10</td>\n",
       "      <td>U</td>\n",
       "      <td>Pacific/Port_Moresby</td>\n",
       "      <td>airport</td>\n",
       "      <td>OurAirports</td>\n",
       "    </tr>\n",
       "    <tr>\n",
       "      <th>3</th>\n",
       "      <td>Nadzab Airport</td>\n",
       "      <td>Nadzab</td>\n",
       "      <td>Papua New Guinea</td>\n",
       "      <td>LAE</td>\n",
       "      <td>AYNZ</td>\n",
       "      <td>10</td>\n",
       "      <td>U</td>\n",
       "      <td>Pacific/Port_Moresby</td>\n",
       "      <td>airport</td>\n",
       "      <td>OurAirports</td>\n",
       "    </tr>\n",
       "    <tr>\n",
       "      <th>4</th>\n",
       "      <td>Port Moresby Jacksons International Airport</td>\n",
       "      <td>Port Moresby</td>\n",
       "      <td>Papua New Guinea</td>\n",
       "      <td>POM</td>\n",
       "      <td>AYPY</td>\n",
       "      <td>10</td>\n",
       "      <td>U</td>\n",
       "      <td>Pacific/Port_Moresby</td>\n",
       "      <td>airport</td>\n",
       "      <td>OurAirports</td>\n",
       "    </tr>\n",
       "  </tbody>\n",
       "</table>\n",
       "</div>"
      ],
      "text/plain": [
       "                                          Name          City  \\\n",
       "0                               Goroka Airport        Goroka   \n",
       "1                               Madang Airport        Madang   \n",
       "2                 Mount Hagen Kagamuga Airport   Mount Hagen   \n",
       "3                               Nadzab Airport        Nadzab   \n",
       "4  Port Moresby Jacksons International Airport  Port Moresby   \n",
       "\n",
       "            Country IATA  ICAO Timezone DST                    Tz     Type  \\\n",
       "0  Papua New Guinea  GKA  AYGA       10   U  Pacific/Port_Moresby  airport   \n",
       "1  Papua New Guinea  MAG  AYMD       10   U  Pacific/Port_Moresby  airport   \n",
       "2  Papua New Guinea  HGU  AYMH       10   U  Pacific/Port_Moresby  airport   \n",
       "3  Papua New Guinea  LAE  AYNZ       10   U  Pacific/Port_Moresby  airport   \n",
       "4  Papua New Guinea  POM  AYPY       10   U  Pacific/Port_Moresby  airport   \n",
       "\n",
       "        Source  \n",
       "0  OurAirports  \n",
       "1  OurAirports  \n",
       "2  OurAirports  \n",
       "3  OurAirports  \n",
       "4  OurAirports  "
      ]
     },
     "execution_count": 5,
     "metadata": {},
     "output_type": "execute_result"
    }
   ],
   "source": [
    "# Result after deleting the columns\n",
    "data_loader.df.head()\n"
   ]
  },
  {
   "cell_type": "markdown",
   "id": "e74b5490",
   "metadata": {},
   "source": [
    "5. Get a statistical summary again, how has the data changed?\n"
   ]
  },
  {
   "cell_type": "code",
   "execution_count": 6,
   "id": "330e590f",
   "metadata": {},
   "outputs": [
    {
     "name": "stdout",
     "output_type": "stream",
     "text": [
      "New statistical summary after removing columns:\n",
      "              Name      City        Country   IATA   ICAO Timezone    DST  \\\n",
      "count       12668     12619          12668  12668  12667    12668  12668   \n",
      "unique      12330      9673            241   6925   8161       42      8   \n",
      "top     North Sea  New York  United States     \\N     \\N        1      E   \n",
      "freq           21        50           2708   5744   4507     2706   3478   \n",
      "\n",
      "           Tz     Type       Source  \n",
      "count   12668    12668        12668  \n",
      "unique    312        5            4  \n",
      "top        \\N  airport  OurAirports  \n",
      "freq     4282     8264         7698  \n"
     ]
    }
   ],
   "source": [
    "# Get a new statistical summary after removing columns\n",
    "new_statistical_summary = data_loader.df.describe()\n",
    "print(\"New statistical summary after removing columns:\\n\", new_statistical_summary)\n"
   ]
  },
  {
   "cell_type": "markdown",
   "id": "73e6c8d1",
   "metadata": {},
   "source": [
    "6. In the statistical summary mentioned earlier, it appears that in the TZ (time zone) column there is an unusual value, \"\\N\". Determine the proportion of these values using the value_counts method."
   ]
  },
  {
   "cell_type": "code",
   "execution_count": 7,
   "id": "123142b1",
   "metadata": {},
   "outputs": [
    {
     "name": "stdout",
     "output_type": "stream",
     "text": [
      "Proportion of unusual values in the 'Timezone' column: 2.79%\n"
     ]
    }
   ],
   "source": [
    "# Get the proportion of unusual values in the 'Timezone' column\n",
    "tz_value_counts = data_loader.df['Timezone'].value_counts(normalize=True)\n",
    "unusual_proportion = tz_value_counts.get('\\\\N', 0)\n",
    "\n",
    "# Print the proportion directly\n",
    "print(f\"Proportion of unusual values in the 'Timezone' column: {unusual_proportion:.2%}\")\n"
   ]
  },
  {
   "cell_type": "markdown",
   "id": "113f721a",
   "metadata": {},
   "source": [
    "7. Reload the dataset so that null values are correctly interpreted (repeat section 4, delete columns)."
   ]
  },
  {
   "cell_type": "code",
   "execution_count": 8,
   "id": "a9da6af3",
   "metadata": {},
   "outputs": [],
   "source": [
    "# Replace \"\\N\" with NaN in the DataFrame\n",
    "data_loader.df.replace(\"\\\\N\", pd.NA, inplace=True)\n"
   ]
  },
  {
   "cell_type": "markdown",
   "id": "f1d19b95",
   "metadata": {},
   "source": [
    "8. Check the entire dataframe for null values"
   ]
  },
  {
   "cell_type": "code",
   "execution_count": 9,
   "id": "04a35db4",
   "metadata": {},
   "outputs": [
    {
     "name": "stdout",
     "output_type": "stream",
     "text": [
      "Null values per column:\n",
      " Name           0\n",
      "City          49\n",
      "Country        0\n",
      "IATA        5744\n",
      "ICAO        4508\n",
      "Timezone     353\n",
      "DST          353\n",
      "Tz          4282\n",
      "Type        1651\n",
      "Source      1651\n",
      "dtype: int64\n"
     ]
    }
   ],
   "source": [
    "# Count null values per column\n",
    "null_values = data_loader.df.isnull().sum()\n",
    "print(\"Null values per column:\\n\", null_values)\n"
   ]
  },
  {
   "cell_type": "markdown",
   "id": "38497ac7",
   "metadata": {},
   "source": [
    "9. Overwrite the null values of the IATA and ICAO columns with the string 'UNKNOWN'."
   ]
  },
  {
   "cell_type": "code",
   "execution_count": 10,
   "id": "e0704fdc",
   "metadata": {},
   "outputs": [
    {
     "name": "stdout",
     "output_type": "stream",
     "text": [
      "Null values successfully overwritten.\n"
     ]
    }
   ],
   "source": [
    "# Overwrite null values in the 'IATA' and 'ICAO' columns\n",
    "data_loader.df[['IATA', 'ICAO']] = data_loader.df[['IATA', 'ICAO']].fillna('UNKNOWN')\n",
    "print(\"Null values successfully overwritten.\")\n"
   ]
  },
  {
   "cell_type": "markdown",
   "id": "fa806be3",
   "metadata": {},
   "source": [
    "10.Change the type of the DST and TZ variables to categorical."
   ]
  },
  {
   "cell_type": "code",
   "execution_count": 11,
   "id": "ff67e856",
   "metadata": {},
   "outputs": [],
   "source": [
    "data_loader.df[['DST', 'Tz']] = data_loader.df[['DST', 'Tz']].astype('category')\n",
    "   \n"
   ]
  },
  {
   "cell_type": "markdown",
   "id": "6c278d8e",
   "metadata": {},
   "source": [
    "11. Obtain a statistical summary of the categorical variables."
   ]
  },
  {
   "cell_type": "code",
   "execution_count": 12,
   "id": "edb9fa69",
   "metadata": {},
   "outputs": [
    {
     "name": "stdout",
     "output_type": "stream",
     "text": [
      "Statistical summary of categorical variables:\n",
      "           DST                Tz\n",
      "count   12315              8386\n",
      "unique      7               311\n",
      "top         E  America/New_York\n",
      "freq     3478               705\n"
     ]
    }
   ],
   "source": [
    "# Point 11: Get a statistical summary of categorical variables\n",
    "print(\"Statistical summary of categorical variables:\\n\", data_loader.df[['DST', 'Tz']].describe())\n"
   ]
  },
  {
   "cell_type": "markdown",
   "id": "1130107d",
   "metadata": {},
   "source": [
    "12. Group the data frame by airport type, showing the type count. Consider the best way to communicate the results; a plot might be helpful."
   ]
  },
  {
   "cell_type": "code",
   "execution_count": 13,
   "id": "b9a657d8",
   "metadata": {},
   "outputs": [
    {
     "name": "stdout",
     "output_type": "stream",
     "text": [
      "Airport Type Counts:\n",
      "       Type  Count\n",
      "0  airport   8264\n",
      "1     port    101\n",
      "2  station   1332\n",
      "3  unknown   1320\n"
     ]
    },
    {
     "data": {
      "image/png": "[encoded data removed]",
      "text/plain": [
       "<Figure size 1000x600 with 1 Axes>"
      ]
     },
     "metadata": {},
     "output_type": "display_data"
    }
   ],
   "source": [
    "# Group the data frame by airport type and count the occurrences\n",
    "airport_type_counts = data_loader.df.groupby('Type').size().reset_index(name='Count')\n",
    "\n",
    "# Display the grouped data\n",
    "print(\"Airport Type Counts:\\n\", airport_type_counts)\n",
    "\n",
    "# Plot the results using a bar plot\n",
    "plt.figure(figsize=(10, 6))\n",
    "sns.barplot(x='Type', y='Count', data=airport_type_counts, palette='viridis')\n",
    "plt.title('Airport Type Counts')\n",
    "plt.xlabel('Airport Type')\n",
    "plt.ylabel('Count')\n",
    "plt.show()\n"
   ]
  },
  {
   "cell_type": "markdown",
   "id": "aee84d14",
   "metadata": {},
   "source": [
    "13. Select the names of cities where the airport type is \"port,\" ensuring no repeated entries. How many cities have at least one port?"
   ]
  },
  {
   "cell_type": "code",
   "execution_count": 14,
   "id": "3fb6dbed",
   "metadata": {},
   "outputs": [
    {
     "name": "stdout",
     "output_type": "stream",
     "text": [
      "Number of cities with at least one port: 90\n"
     ]
    }
   ],
   "source": [
    "# Count the number of cities with at least one port\n",
    "num_port_cities = len(data_loader.df[data_loader.df['Type'] == 'port']['City'].unique())\n",
    "print(f\"Number of cities with at least one port: {num_port_cities}\")\n"
   ]
  },
  {
   "cell_type": "markdown",
   "id": "ab38e8e9",
   "metadata": {},
   "source": [
    "14. Show all rows for the fields: name of the airport, name of the country, and name of the city for airports located in Spain.\n"
   ]
  },
  {
   "cell_type": "code",
   "execution_count": 15,
   "id": "9597a257",
   "metadata": {},
   "outputs": [
    {
     "name": "stdout",
     "output_type": "stream",
     "text": [
      "Airports in Spain:\n",
      "                                          Name Country                    City\n",
      "1030                    Fuerteventura Airport   Spain           Fuerteventura\n",
      "1031                           Hierro Airport   Spain                  Hierro\n",
      "1032                         La Palma Airport   Spain  Santa Cruz De La Palma\n",
      "1033                     Gran Canaria Airport   Spain            Gran Canaria\n",
      "1034                        Lanzarote Airport   Spain                Arrecife\n",
      "...                                       ...     ...                     ...\n",
      "11437                     Madrid Estacion Sur   Spain                  Madrid\n",
      "11438                     Granada Bus Station   Spain                 Granada\n",
      "11879       Palma de Mallorca Cruise Terminal   Spain       Palma de Mallorca\n",
      "12234                      Algeciras Heliport   Spain               Algeciras\n",
      "12386  Región de Murcia International Airport   Spain                  Murcia\n",
      "\n",
      "[145 rows x 3 columns]\n"
     ]
    }
   ],
   "source": [
    "# Filter airports in Spain and select specific columns\n",
    "spain_airports = data_loader.df[data_loader.df['Country'] == 'Spain'][['Name', 'Country', 'City']]\n",
    "print(\"Airports in Spain:\\n\", spain_airports)\n"
   ]
  },
  {
   "cell_type": "markdown",
   "id": "417faa1f",
   "metadata": {},
   "source": [
    "15. Show the names of the countries and airports belonging to the cities of Madrid and Barcelona. Are all the records from Spain?\n"
   ]
  },
  {
   "cell_type": "code",
   "execution_count": 16,
   "id": "8109460e",
   "metadata": {},
   "outputs": [
    {
     "name": "stdout",
     "output_type": "stream",
     "text": [
      "Airports in Madrid and Barcelona:\n",
      "             City    Country                                               Name\n",
      "1188   Barcelona      Spain                    Barcelona International Airport\n",
      "1194      Madrid      Spain                                    Getafe Air Base\n",
      "1198      Madrid      Spain               Adolfo Suárez Madrid–Barajas Airport\n",
      "1214      Madrid      Spain                                   Torrejón Airport\n",
      "1217      Madrid      Spain                                     Cuatro Vientos\n",
      "2690   Barcelona  Venezuela  General José Antonio Anzoategui International ...\n",
      "6302   Barcelona      Spain                          Barcelona Cruise Terminal\n",
      "8046      Madrid      Spain                                             Atocha\n",
      "8053      Madrid      Spain                                  Chamartin Station\n",
      "8055   Barcelona      Spain                                           Aeroport\n",
      "8056   Barcelona      Spain                                  Passeig de Gracia\n",
      "8057   Barcelona      Spain                                              Sants\n",
      "8846      Madrid      Spain                                    Barajas Station\n",
      "9156      Madrid      Spain                         Aeropuerto T4 Madrid Metro\n",
      "10033  Barcelona      Spain                                  Estacio de Franca\n",
      "10264  Barcelona      Spain                            Placa d Espanya Station\n",
      "10435     Madrid      Spain                             Cuatro Vientos Airport\n",
      "11435  Barcelona      Spain                                    Barcelona-Sants\n",
      "11437     Madrid      Spain                                Madrid Estacion Sur\n"
     ]
    }
   ],
   "source": [
    "# Filter airports in Madrid and Barcelona and select specific columns\n",
    "madrid_barcelona_airports = data_loader.df[data_loader.df['City'].isin(['Madrid', 'Barcelona'])]\\\n",
    "[['City', 'Country', 'Name']]\n",
    "print(\"Airports in Madrid and Barcelona:\\n\", madrid_barcelona_airports)\n"
   ]
  },
  {
   "cell_type": "markdown",
   "id": "b7116a27",
   "metadata": {},
   "source": [
    "16. Save the previous results in a .csv file named Madrid_Barcelona.csv"
   ]
  },
  {
   "cell_type": "code",
   "execution_count": 17,
   "id": "cc8b27dd",
   "metadata": {},
   "outputs": [],
   "source": [
    "# 16. Save the previous results to a .csv file named Madrid_Barcelona.csv\n",
    "madrid_barcelona_airports.to_csv('Madrid_Barcelona.csv', index=False)\n"
   ]
  },
  {
   "cell_type": "markdown",
   "id": "0f17504a",
   "metadata": {},
   "source": [
    "# Curiosities"
   ]
  },
  {
   "cell_type": "markdown",
   "id": "61926809",
   "metadata": {},
   "source": [
    "* Classify the countries of South America by the number of airports."
   ]
  },
  {
   "cell_type": "code",
   "execution_count": 17,
   "id": "f1a41d04",
   "metadata": {},
   "outputs": [
    {
     "name": "stdout",
     "output_type": "stream",
     "text": [
      "Number of airports per country in South America:\n",
      " Country\n",
      "Brazil       288\n",
      "Argentina    108\n",
      "Colombia      81\n",
      "Venezuela     61\n",
      "Chile         52\n",
      "Peru          52\n",
      "Ecuador       44\n",
      "Bolivia       27\n",
      "Suriname      27\n",
      "Guyana        19\n",
      "Uruguay       16\n",
      "Paraguay       9\n",
      "Name: count, dtype: int64\n"
     ]
    }
   ],
   "source": [
    "# Filter the data to include only countries in South America\n",
    "south_america_data = data_loader.df[data_loader.df['Country'].isin(['Argentina', 'Bolivia', 'Brazil', 'Chile', 'Colombia', 'Ecuador', 'Guyana', 'Paraguay', 'Peru', 'Suriname', 'Uruguay', 'Venezuela'])]\n",
    "# Count the number of airports per country\n",
    "airports_per_country = south_america_data['Country'].value_counts()\n",
    "# Display the results\n",
    "print(\"Number of airports per country in South America:\\n\", airports_per_country)\n"
   ]
  },
  {
   "cell_type": "code",
   "execution_count": 20,
   "id": "c8903c62",
   "metadata": {},
   "outputs": [
    {
     "data": {
      "image/png": "[encoded data removed]",
      "text/plain": [
       "<Figure size 1000x600 with 1 Axes>"
      ]
     },
     "metadata": {},
     "output_type": "display_data"
    }
   ],
   "source": [
    "countries = ['Brazil', 'Argentina', 'Colombia', 'Venezuela', 'Chile', 'Peru', 'Ecuador', 'Bolivia', 'Suriname', 'Guyana', 'Uruguay', 'Paraguay']\n",
    "airports_count = [288, 108, 81, 61, 52, 52, 44, 27, 27, 19, 16, 9]\n",
    "\n",
    "# Crear un gráfico de barras horizontal con colores divergentes\n",
    "plt.figure(figsize=(10, 6))\n",
    "sns.barplot(x=airports_count, y=countries, palette='viridis')\n",
    "plt.title('Number of Airports per Country in South America')\n",
    "plt.xlabel('Number of Airports')\n",
    "plt.ylabel('Country')\n",
    "\n",
    "# Mostrar el gráfico\n",
    "plt.show()"
   ]
  },
  {
   "cell_type": "markdown",
   "id": "09284e06",
   "metadata": {},
   "source": [
    "* What are the airports in Paraguay?"
   ]
  },
  {
   "cell_type": "code",
   "execution_count": 18,
   "id": "40babd02",
   "metadata": {},
   "outputs": [
    {
     "name": "stdout",
     "output_type": "stream",
     "text": [
      "Names of airports in Paraguay:\n",
      " 2575             Silvio Pettirossi International Airport\n",
      "2576                              Juan De Ayolas Airport\n",
      "2577                Teniente Col Carmelo Peralta Airport\n",
      "2578                                      Itaipú Airport\n",
      "2579         Dr. Luis Maria Argaña International Airport\n",
      "2580                       Carlos Miguel Gimenez Airport\n",
      "4094                       Guarani International Airport\n",
      "5920     Dr Augusto Roberto Fuster International Airport\n",
      "11958                                Encarnación Airport\n",
      "Name: Name, dtype: object\n"
     ]
    }
   ],
   "source": [
    "# Filter the data to include only airports in Paraguay\n",
    "paraguay_airports = data_loader.df[data_loader.df['Country'] == 'Paraguay']\n",
    "# Display the names of airports in Paraguay\n",
    "paraguay_airport_names = paraguay_airports['Name']\n",
    "print(\"Names of airports in Paraguay:\\n\", paraguay_airport_names)\n"
   ]
  },
  {
   "cell_type": "code",
   "execution_count": null,
   "id": "0ed2bc05",
   "metadata": {},
   "outputs": [],
   "source": []
  }
 ],
 "metadata": {
  "kernelspec": {
   "display_name": "Python 3 (ipykernel)",
   "language": "python",
   "name": "python3"
  },
  "language_info": {
   "codemirror_mode": {
    "name": "ipython",
    "version": 3
   },
   "file_extension": ".py",
   "mimetype": "text/x-python",
   "name": "python",
   "nbconvert_exporter": "python",
   "pygments_lexer": "ipython3",
   "version": "3.11.5"
  }
 },
 "nbformat": 4,
 "nbformat_minor": 5
}
